{
  "cells": [
    {
      "cell_type": "markdown",
      "metadata": {
        "id": "uaZTZdK4o125"
      },
      "source": [
        "# Guide to TensorFlow Tensors\n",
        "\n",
        "\n"
      ]
    },
    {
      "cell_type": "markdown",
      "source": [
        "<a href='https://www.machinelearningnuggets.com/decision-trees-and-random-forests/'><img src='https://drive.google.com/uc?export=view&id=1U9BYq32ayJj5OTr6nEMpelmNcW_xSiAu'>"
      ],
      "metadata": {
        "id": "vyKWMjillkuW"
      }
    },
    {
      "cell_type": "code",
      "execution_count": 91,
      "metadata": {
        "colab": {
          "base_uri": "https://localhost:8080/"
        },
        "id": "l-u91I-m0bNR",
        "outputId": "6f94205c-d959-4312-8f48-bbfd854ba9d2"
      },
      "outputs": [
        {
          "output_type": "stream",
          "name": "stdout",
          "text": [
            "2.14.0\n"
          ]
        }
      ],
      "source": [
        "import tensorflow as tf\n",
        "print(tf.__version__) # check version\n"
      ]
    },
    {
      "cell_type": "markdown",
      "metadata": {
        "id": "l-MXqSZq7Iq8"
      },
      "source": [
        "## Various ways of Creating Tensors\n",
        "\n",
        "* `tf.constant()`\n",
        "* `tf.variable()`"
      ]
    },
    {
      "cell_type": "markdown",
      "metadata": {
        "id": "IkNzsJv7FX7g"
      },
      "source": [
        "### `tf.constant()`\n",
        "\n",
        "It's TensorFlow's most basic method for creating tensors.\n",
        "This function is vital as it allows us to create tensors with constant values."
      ]
    },
    {
      "cell_type": "markdown",
      "metadata": {
        "id": "NvHdOhsU9SSJ"
      },
      "source": [
        "Rank 0 tensor(scalar)"
      ]
    },
    {
      "cell_type": "code",
      "execution_count": 92,
      "metadata": {
        "colab": {
          "base_uri": "https://localhost:8080/"
        },
        "id": "YsKjfMYNDz07",
        "outputId": "2c05edf8-dfca-4452-e7b7-4f10467aa40e"
      },
      "outputs": [
        {
          "output_type": "stream",
          "name": "stdout",
          "text": [
            "tf.Tensor(4, shape=(), dtype=int32)\n"
          ]
        }
      ],
      "source": [
        "rank_0_tensor = tf.constant(4)\n",
        "print(rank_0_tensor)"
      ]
    },
    {
      "cell_type": "code",
      "execution_count": 93,
      "metadata": {
        "colab": {
          "base_uri": "https://localhost:8080/"
        },
        "id": "AcxJrwAn7BPc",
        "outputId": "d0ea2aa3-672e-41cc-9966-c7b8ee4acaab"
      },
      "outputs": [
        {
          "output_type": "stream",
          "name": "stdout",
          "text": [
            "rank_0_tensor has 0 dimensions\n"
          ]
        }
      ],
      "source": [
        "print(f\"rank_0_tensor has {rank_0_tensor.ndim} dimensions\")"
      ]
    },
    {
      "cell_type": "markdown",
      "metadata": {
        "id": "pI6mO_kY9Wcp"
      },
      "source": [
        "Rank 1 tensor(vector)"
      ]
    },
    {
      "cell_type": "code",
      "execution_count": 94,
      "metadata": {
        "colab": {
          "base_uri": "https://localhost:8080/"
        },
        "id": "ckweAjTZzRDv",
        "outputId": "700bca5b-df20-44a3-c0aa-f71262fe68ea"
      },
      "outputs": [
        {
          "output_type": "stream",
          "name": "stdout",
          "text": [
            "tf.Tensor([ 20 100], shape=(2,), dtype=int32)\n",
            "\n",
            "Tensor rank: 1\n",
            "rank_1_tensor has 1 dimension\n"
          ]
        }
      ],
      "source": [
        "rank_1_tensor = tf.constant([20, 100])\n",
        "print(rank_1_tensor)\n",
        "print(f\"\\nTensor rank: {tf.rank(rank_1_tensor)}\")\n",
        "print(f\"rank_1_tensor has {rank_1_tensor.ndim} dimension\")"
      ]
    },
    {
      "cell_type": "markdown",
      "metadata": {
        "id": "9OqkfCSEEsye"
      },
      "source": [
        "Rank 2 tensor - a list of lists\n",
        "\n",
        "![image.png]()"
      ]
    },
    {
      "cell_type": "code",
      "execution_count": 95,
      "metadata": {
        "colab": {
          "base_uri": "https://localhost:8080/"
        },
        "id": "7-I2XqOJzQ7f",
        "outputId": "687ad0b4-55bb-4347-f2b5-92b833fdebb1"
      },
      "outputs": [
        {
          "output_type": "stream",
          "name": "stdout",
          "text": [
            "tf.Tensor(\n",
            "[[20 10]\n",
            " [15 30]\n",
            " [45 35]], shape=(3, 2), dtype=int32)\n",
            "\n",
            "Tensor rank: 2\n",
            "rank_2_tensor has 2 dimensions\n"
          ]
        }
      ],
      "source": [
        "rank_2_tensor = tf.constant([[20, 10],\n",
        "                             [15, 30],\n",
        "                             [45, 35]])\n",
        "print(rank_2_tensor)\n",
        "print(f\"\\nTensor rank: {tf.rank(rank_2_tensor)}\")\n",
        "print(f\"rank_2_tensor has {rank_2_tensor.ndim} dimensions\")"
      ]
    },
    {
      "cell_type": "markdown",
      "metadata": {
        "id": "GvJZV0_EEw7N"
      },
      "source": [
        "Rank 3 tensor - n-dimensional\n"
      ]
    },
    {
      "cell_type": "code",
      "execution_count": 96,
      "metadata": {
        "colab": {
          "base_uri": "https://localhost:8080/"
        },
        "id": "y_hAA6eozQ2g",
        "outputId": "c670adf2-d627-4ede-dec9-4b786f8ddcbe"
      },
      "outputs": [
        {
          "output_type": "stream",
          "name": "stdout",
          "text": [
            "tf.Tensor(\n",
            "[[[ 0  1  2]\n",
            "  [ 3  4  5]]\n",
            "\n",
            " [[ 6  7  8]\n",
            "  [ 9 10 11]]\n",
            "\n",
            " [[12 13 14]\n",
            "  [15 16 17]]], shape=(3, 2, 3), dtype=int32)\n",
            "\n",
            "Tensor rank: 3\n",
            "rank_3_tensor has 3 dimensions\n"
          ]
        }
      ],
      "source": [
        "rank_3_tensor = tf.constant([\n",
        "  [[0, 1, 2],\n",
        "   [3, 4, 5]],\n",
        "  [[6, 7, 8],\n",
        "   [9, 10, 11]],\n",
        "  [[12, 13, 14],\n",
        "   [15, 16, 17]],])\n",
        "\n",
        "print(rank_3_tensor)\n",
        "print(f\"\\nTensor rank: {tf.rank(rank_3_tensor)}\")\n",
        "print(f\"rank_3_tensor has {rank_3_tensor.ndim} dimensions\")"
      ]
    },
    {
      "cell_type": "markdown",
      "metadata": {
        "id": "nDWJtqVk9CyF"
      },
      "source": [
        "#### Shape of a Tensor"
      ]
    },
    {
      "cell_type": "code",
      "execution_count": 97,
      "metadata": {
        "colab": {
          "base_uri": "https://localhost:8080/"
        },
        "id": "BREbi61azQlS",
        "outputId": "35538e99-791c-4b86-c70b-5e5ca680a6a7"
      },
      "outputs": [
        {
          "output_type": "stream",
          "name": "stdout",
          "text": [
            "Rank 0 tensor shape: []\n",
            "Rank 1 tensor shape: [2]\n",
            "Rank 2 tensor shape: [3 2]\n",
            "Rank 3 tensor shape: [3 2 3]\n"
          ]
        }
      ],
      "source": [
        "# retrieve the shape of a tensor\n",
        "print(f\"Rank 0 tensor shape: {tf.shape(rank_0_tensor)}\")\n",
        "print(f\"Rank 1 tensor shape: {tf.shape(rank_1_tensor)}\")\n",
        "print(f\"Rank 2 tensor shape: {tf.shape(rank_2_tensor)}\")\n",
        "print(f\"Rank 3 tensor shape: {tf.shape(rank_3_tensor)}\")\n"
      ]
    },
    {
      "cell_type": "markdown",
      "metadata": {
        "id": "0ZIYM-osP3tS"
      },
      "source": [
        "`Tensor.shape` to check the shape. Does not return a Tensor"
      ]
    },
    {
      "cell_type": "code",
      "execution_count": 98,
      "metadata": {
        "colab": {
          "base_uri": "https://localhost:8080/"
        },
        "id": "1TYwrE11zQYp",
        "outputId": "97f98672-35e5-4b29-f5ff-aba27e6d57c4"
      },
      "outputs": [
        {
          "output_type": "stream",
          "name": "stdout",
          "text": [
            "(3, 2)\n"
          ]
        }
      ],
      "source": [
        "print(rank_2_tensor.shape)"
      ]
    },
    {
      "cell_type": "markdown",
      "metadata": {
        "id": "7gEJ5FT9QC5_"
      },
      "source": [
        "#### Data tyep(`dtype`) of a tensor\n",
        "\n",
        "A tensor can have any dtype(data type) listed on [`tf. dtypes`](https://www.tensorflow.org/api_docs/python/tf/dtypes). However remember, a tensor must have a specific data type, and all elements within that tensor must conform to that data type. Therefore, a single tensor cannot have two different data types.\n",
        "\n",
        "For instance,  we cannot create a tensor with both integer and floating-point elements. If you need to work with different data types, you would typically create separate tensors for each type.\n",
        "\n",
        "We can specify the tensor `dtype` while creating it:"
      ]
    },
    {
      "cell_type": "code",
      "execution_count": 99,
      "metadata": {
        "colab": {
          "base_uri": "https://localhost:8080/"
        },
        "id": "oYi3fNqqQBps",
        "outputId": "0a79b09c-9e17-40d1-dbc2-06a31b0f2924"
      },
      "outputs": [
        {
          "output_type": "stream",
          "name": "stdout",
          "text": [
            "tf.Tensor([20.5 30.   4.3], shape=(3,), dtype=float32)\n",
            "tf.Tensor(\n",
            "[[1 2 3]\n",
            " [4 5 6]], shape=(2, 3), dtype=int64)\n",
            "tf.Tensor([b'TensorFlow' b'tensors' b'dtypes'], shape=(3,), dtype=string)\n"
          ]
        }
      ],
      "source": [
        "# Float tensor\n",
        "float32_tensor = tf.constant([20.5, 30.0, 4.3], dtype='float32')\n",
        "# Integer tensor\n",
        "int64_tensor = tf.constant([[1, 2, 3], [4, 5, 6]], dtype='int64')\n",
        "# String tensor\n",
        "string_tensor = tf.constant([\"TensorFlow\", \"tensors\", \"dtypes\"])\n",
        "\n",
        "print(float32_tensor)\n",
        "print(int64_tensor)\n",
        "print(string_tensor)"
      ]
    },
    {
      "cell_type": "markdown",
      "metadata": {
        "id": "TQSHaAFnYpS6"
      },
      "source": [
        "#### Convert tensors to different datatypes with `tf.cast` function"
      ]
    },
    {
      "cell_type": "code",
      "execution_count": 100,
      "metadata": {
        "colab": {
          "base_uri": "https://localhost:8080/"
        },
        "id": "sPXU_lh3zQWL",
        "outputId": "687b54f4-bb0d-4ef6-9470-78ca2b56d751"
      },
      "outputs": [
        {
          "output_type": "stream",
          "name": "stdout",
          "text": [
            "tf.Tensor([20 30  4], shape=(3,), dtype=int32)\n",
            "tf.Tensor(\n",
            "[[1. 2. 3.]\n",
            " [4. 5. 6.]], shape=(2, 3), dtype=float16)\n"
          ]
        }
      ],
      "source": [
        "float32_tensor_as_int32_tensor = tf.cast(float32_tensor, dtype='int32')\n",
        "int64_tensor_as_float16_tensor = tf.cast(int64_tensor, dtype='float16')\n",
        "print(float32_tensor_as_int32_tensor)\n",
        "print(int64_tensor_as_float16_tensor)"
      ]
    },
    {
      "cell_type": "markdown",
      "metadata": {
        "id": "J112P-PjXIZ3"
      },
      "source": [
        "### Creating(or initializing) tensors with specific values(`tf.zeros` and `tf.ones`)\n",
        "\n",
        "`tf.zeros` and `tf.ones` are commonly used in deep learning(especially when building neural network models) to initialize certain tensors to specific values. By default, a tensor initialized with `tf.zeros` will contain only zeros, while that initialized with `tf.ones` will have only ones."
      ]
    },
    {
      "cell_type": "code",
      "execution_count": 101,
      "metadata": {
        "colab": {
          "base_uri": "https://localhost:8080/"
        },
        "id": "Ywwb-4b8XMAX",
        "outputId": "3f638edb-5d37-49e8-f9ad-5055a801cb8b"
      },
      "outputs": [
        {
          "output_type": "stream",
          "name": "stdout",
          "text": [
            "tf.Tensor([1. 1.], shape=(2,), dtype=float32)\n",
            "tf.Tensor(\n",
            "[[1 1 1]\n",
            " [1 1 1]], shape=(2, 3), dtype=int32)\n",
            "tf.Tensor([[1. 1.]], shape=(1, 2), dtype=float32)\n"
          ]
        }
      ],
      "source": [
        "# Intiailize tensors with ones\n",
        "ones_tensor1 = tf.ones(shape=(2), dtype='float32') # rank 1 tensor of ones\n",
        "ones_tensor2 = tf.ones(shape=[2, 3], dtype='int32') # rank 2 tensor of ones\n",
        "\n",
        "tensor_1d = tf.constant(value = [1, 2])\n",
        "ones_tensor3 = tf.ones(shape=tensor_1d) # # takes shape as the value of the 1d tensor\n",
        "print(ones_tensor1)\n",
        "print(ones_tensor2)\n",
        "print(ones_tensor3)"
      ]
    },
    {
      "cell_type": "code",
      "execution_count": 102,
      "metadata": {
        "colab": {
          "base_uri": "https://localhost:8080/"
        },
        "id": "3-59o5HGcc9X",
        "outputId": "8f9b3376-d4db-4719-d0c8-cf167710f411"
      },
      "outputs": [
        {
          "output_type": "stream",
          "name": "stdout",
          "text": [
            "tf.Tensor([0. 0. 0.], shape=(3,), dtype=float32)\n",
            "tf.Tensor(\n",
            "[[[0 0 0]\n",
            "  [0 0 0]\n",
            "  [0 0 0]]\n",
            "\n",
            " [[0 0 0]\n",
            "  [0 0 0]\n",
            "  [0 0 0]]], shape=(2, 3, 3), dtype=int32)\n",
            "tf.Tensor(\n",
            "[[0. 0.]\n",
            " [0. 0.]\n",
            " [0. 0.]], shape=(3, 2), dtype=float32)\n"
          ]
        }
      ],
      "source": [
        "# Intiailize tensors with zeors\n",
        "zeros_tensor1 = tf.zeros(shape=(3), dtype='float32') # rank 1 tensor of zeros\n",
        "zeros_tensor2 = tf.zeros(shape=[2, 3, 3], dtype='int32') # rank 3 tensor of zeros\n",
        "\n",
        "tensor_1d = tf.constant(value = [3, 2])\n",
        "zeros_tensor3 = tf.zeros(shape=tensor_1d) # takes shape as the value of the 1d tensor\n",
        "print(zeros_tensor1)\n",
        "print(zeros_tensor2)\n",
        "print(zeros_tensor3) # 3rows and two columns"
      ]
    },
    {
      "cell_type": "markdown",
      "metadata": {
        "id": "k8TzJqLgtafV"
      },
      "source": [
        "### Example use case of initializing model weight and biases with `tf.zeros`"
      ]
    },
    {
      "cell_type": "code",
      "execution_count": 103,
      "metadata": {
        "colab": {
          "base_uri": "https://localhost:8080/"
        },
        "id": "wRbVhme6i3FM",
        "outputId": "d2003350-be84-4364-a950-3acc0a075104"
      },
      "outputs": [
        {
          "output_type": "stream",
          "name": "stdout",
          "text": [
            "Epoch 1/10\n",
            "4/4 [==============================] - 1s 8ms/step - loss: 0.6932 - accuracy: 0.5200\n",
            "Epoch 2/10\n",
            "4/4 [==============================] - 0s 5ms/step - loss: 0.6931 - accuracy: 0.5200\n",
            "Epoch 3/10\n",
            "4/4 [==============================] - 0s 5ms/step - loss: 0.6931 - accuracy: 0.5200\n",
            "Epoch 4/10\n",
            "4/4 [==============================] - 0s 4ms/step - loss: 0.6931 - accuracy: 0.5200\n",
            "Epoch 5/10\n",
            "4/4 [==============================] - 0s 5ms/step - loss: 0.6931 - accuracy: 0.5200\n",
            "Epoch 6/10\n",
            "4/4 [==============================] - 0s 4ms/step - loss: 0.6931 - accuracy: 0.5200\n",
            "Epoch 7/10\n",
            "4/4 [==============================] - 0s 5ms/step - loss: 0.6931 - accuracy: 0.5200\n",
            "Epoch 8/10\n",
            "4/4 [==============================] - 0s 5ms/step - loss: 0.6931 - accuracy: 0.5200\n",
            "Epoch 9/10\n",
            "4/4 [==============================] - 0s 4ms/step - loss: 0.6932 - accuracy: 0.5200\n",
            "Epoch 10/10\n",
            "4/4 [==============================] - 0s 5ms/step - loss: 0.6930 - accuracy: 0.5200\n",
            "4/4 [==============================] - 0s 4ms/step - loss: 0.6930 - accuracy: 0.5200\n",
            "Final Training Loss: 0.6930, Accuracy: 0.5200\n"
          ]
        }
      ],
      "source": [
        "import tensorflow as tf\n",
        "import numpy as np\n",
        "\n",
        "# Generate some dummy data for training\n",
        "np.random.seed(42)\n",
        "x_train = np.random.random((100, 10))  # 100 samples with 10 features each\n",
        "y_train = np.random.randint(2, size=(100,))  # Integer labels\n",
        "\n",
        "# Define the model\n",
        "class SimpleModel(tf.keras.Model):\n",
        "    def __init__(self, input_size, hidden_size, output_size):\n",
        "        super(SimpleModel, self).__init__()\n",
        "\n",
        "        # Initialize weights and biases with tf.zeros\n",
        "        self.weights_hidden = tf.Variable(\n",
        "            tf.zeros(shape=(input_size,\n",
        "                            hidden_size)))\n",
        "        self.biases_hidden = tf.Variable(\n",
        "            tf.zeros(shape=(hidden_size,)))\n",
        "\n",
        "        self.weights_output = tf.Variable(\n",
        "            tf.zeros(shape=(hidden_size,\n",
        "                            output_size)))\n",
        "        self.biases_output = tf.Variable(\n",
        "            tf.zeros(shape=(output_size,)))\n",
        "\n",
        "    def call(self, inputs):\n",
        "        # Forward pass\n",
        "        hidden_layer = tf.matmul(inputs,\n",
        "                                 self.weights_hidden) + self.biases_hidden\n",
        "        output_layer = tf.matmul(hidden_layer,\n",
        "                                 self.weights_output) + self.biases_output\n",
        "        return output_layer\n",
        "\n",
        "# Instantiate the model\n",
        "input_size = 10\n",
        "hidden_size = 5\n",
        "output_size = 2\n",
        "model_zeros = SimpleModel(input_size, hidden_size, output_size)\n",
        "\n",
        "# Compile the model\n",
        "model_zeros.compile(optimizer='adam',\n",
        "                    loss=tf.keras.losses.SparseCategoricalCrossentropy(from_logits=True),\n",
        "                    metrics=['accuracy'])\n",
        "\n",
        "# Train the model\n",
        "model_zeros.fit(x_train, y_train, epochs=10, batch_size=32)\n",
        "\n",
        "# Evaluate the model\n",
        "loss, accuracy = model_zeros.evaluate(x_train, y_train)\n",
        "print(f\"Final Training Loss: {loss:.4f}, Accuracy: {accuracy:.4f}\")\n"
      ]
    },
    {
      "cell_type": "markdown",
      "metadata": {
        "id": "CCeGlOFPRQce"
      },
      "source": [
        "### Creating variable(Changeable) tensors with `tf.variable()`"
      ]
    },
    {
      "cell_type": "markdown",
      "metadata": {
        "id": "ceUnRuoWVVnH"
      },
      "source": [
        "So far, we have explored how to create tensors with `tf.constant` function. However, we mentioned that tensors created that way are immutable - that is, we can not modify their elements. To prove this point, let's see some examples below:"
      ]
    },
    {
      "cell_type": "code",
      "execution_count": 104,
      "metadata": {
        "colab": {
          "base_uri": "https://localhost:8080/"
        },
        "id": "VcEDHs5lTgzH",
        "outputId": "9bc94c3c-18cf-499c-f9d4-1488a82cdb4d"
      },
      "outputs": [
        {
          "output_type": "stream",
          "name": "stdout",
          "text": [
            "tf.Tensor([20 30 40], shape=(3,), dtype=int32)\n"
          ]
        }
      ],
      "source": [
        "# tensor with tf.constant()\n",
        "immutable_tensor = tf.constant([20, 30, 40]) # vector\n",
        "print(immutable_tensor)"
      ]
    },
    {
      "cell_type": "code",
      "execution_count": 105,
      "metadata": {
        "colab": {
          "base_uri": "https://localhost:8080/"
        },
        "id": "lRAOelqkThst",
        "outputId": "32086438-3195-43d2-baa6-77d6f9e17d7c"
      },
      "outputs": [
        {
          "output_type": "stream",
          "name": "stdout",
          "text": [
            "TypeError: Object does not support item assignment\n"
          ]
        }
      ],
      "source": [
        "# try to change the first element\n",
        "\n",
        "try:\n",
        "  immutable_tensor[0] = 100 # index first element and assign new value\n",
        "  print(immutable_tensor) # item assignment not supported TypeError!\n",
        "except TypeError:\n",
        "  print('TypeError: Object does not support item assignment')"
      ]
    },
    {
      "cell_type": "markdown",
      "metadata": {
        "id": "Z99pfAada6K3"
      },
      "source": [
        "We can not modify elements of a `tf.constant` tensor once created. That could be a challenge when creating models like neural networks where trainable parameters like weights and biases must be adjustable during the training process(optimization process). That's where TensorFlow variables come in handy!"
      ]
    },
    {
      "cell_type": "markdown",
      "metadata": {
        "id": "mse9Wpn8bHqR"
      },
      "source": [
        "TensorFlow variables - mutable tensors, are recommended to represent shared, persistent states your program manipulates(as defined here). They are created using tf.Variable class. The class has some of the following use cases when building machine learning models:"
      ]
    },
    {
      "cell_type": "code",
      "execution_count": 106,
      "metadata": {
        "colab": {
          "base_uri": "https://localhost:8080/"
        },
        "id": "GS0L4O91a5uR",
        "outputId": "e401c970-b710-424d-fcfe-fa922ac69e16"
      },
      "outputs": [
        {
          "output_type": "stream",
          "name": "stdout",
          "text": [
            "<tf.Variable 'Variable:0' shape=(2, 2) dtype=float32, numpy=\n",
            "array([[1., 2.],\n",
            "       [3., 4.]], dtype=float32)>\n",
            "\n",
            "Shape: [2 2]\n",
            "Rank: 2\n"
          ]
        }
      ],
      "source": [
        "example_variable = tf.Variable([[1.0, 2.0], [3.0, 4.0]])\n",
        "print(example_variable)\n",
        "print(f\"\\nShape: {tf.shape(example_variable)}\")\n",
        "print(f\"Rank: {tf.rank(example_variable)}\")"
      ]
    },
    {
      "cell_type": "markdown",
      "metadata": {
        "id": "xyYldJ7AwASc"
      },
      "source": [
        "Variables can hold any type, just like tensors:"
      ]
    },
    {
      "cell_type": "code",
      "execution_count": 107,
      "metadata": {
        "colab": {
          "base_uri": "https://localhost:8080/"
        },
        "id": "CuwsjTwkThnx",
        "outputId": "2d2bdae0-52dd-441b-a663-b25918e2413d"
      },
      "outputs": [
        {
          "output_type": "stream",
          "name": "stdout",
          "text": [
            "<tf.Variable 'Variable:0' shape=(5,) dtype=bool, numpy=array([False,  True,  True, False, False])>\n",
            "<tf.Variable 'Variable:0' shape=(3,) dtype=int32, numpy=array([20, 40, 15], dtype=int32)>\n"
          ]
        }
      ],
      "source": [
        "bool_variable = tf.Variable([False, True, True, False, False])\n",
        "int32_variable = tf.Variable([20, 40, 15], dtype='int32')\n",
        "\n",
        "print(bool_variable)\n",
        "print(int32_variable)"
      ]
    },
    {
      "cell_type": "markdown",
      "metadata": {
        "id": "H08y_b2xYD1C"
      },
      "source": [
        "#### Modifying the variable with `assign`"
      ]
    },
    {
      "cell_type": "code",
      "execution_count": 108,
      "metadata": {
        "colab": {
          "base_uri": "https://localhost:8080/"
        },
        "id": "Vx7UolyvThlr",
        "outputId": "a8490803-686a-40cb-f95c-016d0c7bd7ba"
      },
      "outputs": [
        {
          "output_type": "stream",
          "name": "stdout",
          "text": [
            "Old variable: [20 40 15]\n",
            "Mod variable: [12 15 18]\n"
          ]
        }
      ],
      "source": [
        "int32_variable = tf.Variable([20, 40, 15], dtype='int32')\n",
        "print(f\"Old variable: {int32_variable.numpy()}\")\n",
        "# modify the variable elements\n",
        "int32_variable = int32_variable.assign([12, 15, 18])\n",
        "print(f\"Mod variable: {int32_variable.numpy()}\")"
      ]
    },
    {
      "cell_type": "markdown",
      "metadata": {
        "id": "J9viMNWpYdqV"
      },
      "source": [
        "We can not assign a tensor with a different shape from the existing variable!"
      ]
    },
    {
      "cell_type": "code",
      "execution_count": 109,
      "metadata": {
        "colab": {
          "base_uri": "https://localhost:8080/"
        },
        "id": "Q0oVxbJzThjY",
        "outputId": "9f498fd1-104a-4d9c-a376-42ed27e6b1d3"
      },
      "outputs": [
        {
          "output_type": "stream",
          "name": "stdout",
          "text": [
            "ValueError: Cannot assign value to variable ' UnreadVariable': Shape mismatch.The variable shape (3,), and the assigned value shape (4,) are incompatible.\n"
          ]
        }
      ],
      "source": [
        "try:\n",
        "  int32_variable = int32_variable.assign([12, 15, 18, 20]) # tensor with different shape\n",
        "except Exception as e:\n",
        "  print(f\"{type(e).__name__}: {e}\")"
      ]
    },
    {
      "cell_type": "markdown",
      "metadata": {
        "id": "HGX-6UG-X9Br"
      },
      "source": [
        "#### Updating variable values with `assign.add`\n",
        "\n",
        "We can add a specific value to the current value of an existing variable with `tf.Variable.assign_add`. The method is particularly useful for implementing counters or variables that need to be incremented during the execution for instance counting training steps(As we shall see later)."
      ]
    },
    {
      "cell_type": "code",
      "execution_count": 110,
      "metadata": {
        "colab": {
          "base_uri": "https://localhost:8080/"
        },
        "id": "79WYUtqxd9yv",
        "outputId": "6e417e53-6306-4bf2-e487-0f742f4db036"
      },
      "outputs": [
        {
          "output_type": "execute_result",
          "data": {
            "text/plain": [
              "array([210, 130], dtype=int32)"
            ]
          },
          "metadata": {},
          "execution_count": 110
        }
      ],
      "source": [
        "example_variable2 = tf.Variable([10,30])\n",
        "example_variable2 = example_variable2.assign_add([200, 100])\n",
        "example_variable2.numpy()"
      ]
    },
    {
      "cell_type": "code",
      "execution_count": 111,
      "metadata": {
        "colab": {
          "base_uri": "https://localhost:8080/"
        },
        "id": "tr-3BcP_YTJp",
        "outputId": "f2947c66-0638-42ff-d28a-8901789104bc"
      },
      "outputs": [
        {
          "output_type": "stream",
          "name": "stdout",
          "text": [
            "Current variable1 value: 10\n",
            "Current variable2 values: [10 30]\n",
            "Updated variable1 value: 15\n",
            "Updated variable2 values: [210 130]\n"
          ]
        }
      ],
      "source": [
        "example_variable1 = tf.Variable(10)\n",
        "example_variable2 = tf.Variable([10,30])\n",
        "print(f\"Current variable1 value: {example_variable1.numpy()}\")\n",
        "print(f\"Current variable2 values: {example_variable2.numpy()}\")\n",
        "\n",
        "# increment values in the variables\n",
        "example_variable1 = example_variable1.assign_add(5) # add 5 to current value\n",
        "example_variable2 = example_variable2.assign_add([200, 100]) # add 200 & 100 to current values\n",
        "\n",
        "print(f\"Updated variable1 value: {example_variable1.numpy()}\")\n",
        "print(f\"Updated variable2 values: {example_variable2.numpy()}\")"
      ]
    },
    {
      "cell_type": "markdown",
      "metadata": {
        "id": "Md-sQSnsO3pk"
      },
      "source": [
        "You notice that we mentioned that one of the major use cases of variables is to store trainable parameters. They can also hold gradients computed during backpropagation on a neural network model. However,  not all variables(for instance counters or constant values) in a model need to be trainables or have gradients. They can just be part of the model but don't need to be updated through optimization.\n",
        "We can specify whether or not a variable needs updating during the training process, or its gradients computed during backpropagation. We do this by setting the trainable parameter to False. For instance:"
      ]
    },
    {
      "cell_type": "code",
      "execution_count": 112,
      "metadata": {
        "colab": {
          "base_uri": "https://localhost:8080/"
        },
        "id": "lnCTKe3jThhR",
        "outputId": "25bc7107-8e23-418d-8b72-92f95bb0732e"
      },
      "outputs": [
        {
          "output_type": "execute_result",
          "data": {
            "text/plain": [
              "<tf.Variable 'Variable:0' shape=() dtype=int32, numpy=0>"
            ]
          },
          "metadata": {},
          "execution_count": 112
        }
      ],
      "source": [
        "# set a non-trainable variable to count training steps\n",
        "train_step = tf.Variable(initial_value=0, trainable=False)\n",
        "train_step"
      ]
    },
    {
      "cell_type": "markdown",
      "metadata": {
        "id": "yoRs3tpGXzbb"
      },
      "source": [
        "Example loop using the non-trainable variable"
      ]
    },
    {
      "cell_type": "code",
      "execution_count": 113,
      "metadata": {
        "colab": {
          "base_uri": "https://localhost:8080/"
        },
        "id": "nb0jtiB2Q_JQ",
        "outputId": "9af64878-a513-432f-a31b-cb6f6857a805"
      },
      "outputs": [
        {
          "output_type": "stream",
          "name": "stdout",
          "text": [
            "Epoch 1, train step: 100\n",
            "Epoch 2, train step: 200\n",
            "Epoch 3, train step: 300\n",
            "Epoch 4, train step: 400\n",
            "Epoch 5, train step: 500\n",
            "Final Global Step: 500\n"
          ]
        }
      ],
      "source": [
        "# SAMPLE MODEL HERE\n",
        "...\n",
        "# set a non-trainable variable to count training steps\n",
        "train_step = tf.Variable(initial_value=0, trainable=False)\n",
        "\n",
        "...\n",
        "\n",
        "# Example training loop\n",
        "for epoch in range(5):  # Run for 5 epochs\n",
        "    for step in range(len(x_train)):\n",
        "        # Forward pass\n",
        "        with tf.GradientTape() as tape:\n",
        "            pass\n",
        "\n",
        "        # Perform backward pass and optimization here\n",
        "        ...\n",
        "\n",
        "        # Update the train step variable here\n",
        "        train_step.assign_add(1)\n",
        "\n",
        "    print(f\"Epoch {epoch + 1}, train step: {train_step.numpy()}\")\n",
        "\n",
        "# Display the final training step value\n",
        "print(\"Final Global Step:\", train_step.numpy())\n"
      ]
    },
    {
      "cell_type": "markdown",
      "metadata": {
        "id": "wfiW24pe4w-M"
      },
      "source": [
        "### Creating tensors from NumPy Arrays\n",
        "\n",
        "We can easily create tensors from NumPy arrays. We can use `tf.convert_to_tensor` method or call tf.constant function on the particular NumPy array"
      ]
    },
    {
      "cell_type": "code",
      "execution_count": 114,
      "metadata": {
        "colab": {
          "base_uri": "https://localhost:8080/"
        },
        "id": "RNO7b7AYThd-",
        "outputId": "77e99781-b1a8-494a-9b81-816ae56640c0"
      },
      "outputs": [
        {
          "output_type": "stream",
          "name": "stdout",
          "text": [
            "[[ 0  1  2  3]\n",
            " [ 4  5  6  7]\n",
            " [ 8  9 10 11]] <class 'numpy.ndarray'>\n",
            "\n",
            "tf.Tensor(\n",
            "[[ 0  1  2  3]\n",
            " [ 4  5  6  7]\n",
            " [ 8  9 10 11]], shape=(3, 4), dtype=int64)\n",
            "\n",
            "tf.Tensor(\n",
            "[[ 0.  1.  2.  3.]\n",
            " [ 4.  5.  6.  7.]\n",
            " [ 8.  9. 10. 11.]], shape=(3, 4), dtype=float32)\n"
          ]
        }
      ],
      "source": [
        "np_array = np.arange(0, 12).reshape(3, 4)\n",
        "print(np_array, type(np_array))\n",
        "\n",
        "\n",
        "# convert to tensor\n",
        "np_array_to_tensor = tf.convert_to_tensor(np_array)\n",
        "print()\n",
        "print(np_array_to_tensor)\n",
        "\n",
        "# Alternatively we can call tf.constant on the array\n",
        "np_array_to_tensor = tf.constant(np_array, dtype='float32')\n",
        "print()\n",
        "print(np_array_to_tensor)"
      ]
    },
    {
      "cell_type": "markdown",
      "metadata": {
        "id": "FriEZ0CaNncZ"
      },
      "source": [
        "### Creating random tensors\n",
        "\n",
        "* `tf.random.normal`\n",
        "* `tf.random.uniform`\n",
        "* `tf.random.truncated_normal`\n",
        "* `tf.random.shuffle`\n",
        "* `tf.random.set_seed`\n",
        "* `tf.keras.initializers.RandomNormal`\n",
        "\n",
        "\n",
        "\n"
      ]
    },
    {
      "cell_type": "markdown",
      "metadata": {
        "id": "8gfd7I2kzbVA"
      },
      "source": [
        "#### `tf.random.normal`\n",
        "\n",
        "The tf.random.normal function creates tensors with random values from a normal(Gaussian) distribution. A normal distribution depicts two parameters: a mean and a standard deviation. That means we can set the two parameters for the random tensor."
      ]
    },
    {
      "cell_type": "code",
      "execution_count": 115,
      "metadata": {
        "colab": {
          "base_uri": "https://localhost:8080/"
        },
        "id": "C4MSuJCxThbs",
        "outputId": "669cacd1-f4f7-4632-f517-a1e3a845cd15"
      },
      "outputs": [
        {
          "output_type": "stream",
          "name": "stdout",
          "text": [
            "tf.Tensor(\n",
            "[[ 0.33875433  0.3449861 ]\n",
            " [-0.6605785  -0.2854994 ]\n",
            " [ 0.43852386  0.8288566 ]], shape=(3, 2), dtype=float32)\n"
          ]
        }
      ],
      "source": [
        "# generate a 3x2 tensor containing random values\n",
        "# sampled from a normal distribution with a mean of 0.0\n",
        "# and a standard deviation of 1.0\n",
        "random_normal_tensor = tf.random.normal(shape=(3, 2),\n",
        "                                        mean=0, stddev=1,\n",
        "                                        dtype='float32')\n",
        "print(random_normal_tensor)"
      ]
    },
    {
      "cell_type": "markdown",
      "metadata": {
        "id": "SPhI2ppBITY-"
      },
      "source": [
        "### Create a random tensor with `tf.random.uniform`\n",
        "\n",
        "The `tf.random.uniform` function creates tensors with random values from a uniform distribution. A normal distribution is a probability distribution where all values in the range have an equal probability of being sampled. That means that every value in the specified interval has the same likelihood of being chosen. So, we can generate a random tensor with a set range(min_value, max_value)."
      ]
    },
    {
      "cell_type": "code",
      "execution_count": 116,
      "metadata": {
        "colab": {
          "base_uri": "https://localhost:8080/"
        },
        "id": "i9nF-d4KThBx",
        "outputId": "24a17fda-8ec4-43be-e4af-b571061af6cd"
      },
      "outputs": [
        {
          "output_type": "stream",
          "name": "stdout",
          "text": [
            "tf.Tensor(\n",
            "[[[0.7655597  0.62131155]\n",
            "  [0.95322454 0.5174237 ]\n",
            "  [0.13873744 0.9366349 ]]\n",
            "\n",
            " [[0.4676442  1.1192393 ]\n",
            "  [0.75032634 0.73108864]\n",
            "  [0.40813637 0.61936194]]], shape=(2, 3, 2), dtype=float32)\n"
          ]
        }
      ],
      "source": [
        "# generate a 2x3x2 tensor containing random values\n",
        "# sampled from a uniform distribution with a min_value of 0.0\n",
        "# and a max_value of 1.5\n",
        "random_uniform_tensor = tf.random.uniform(shape=[2, 3, 2],\n",
        "                                          maxval=0,\n",
        "                                          minval=1.5)\n",
        "print(random_uniform_tensor)"
      ]
    },
    {
      "cell_type": "markdown",
      "metadata": {
        "id": "Kanuhg20M-aU"
      },
      "source": [
        "### How to shuffle tensors to introduce randomness\n",
        "\n",
        "The `tf.random.shuffle` function in TensorFlow is used to randomly shuffle the elements along the first dimension of a tensor. For a 2D or rank 2 tensor, this means shuffling the rows."
      ]
    },
    {
      "cell_type": "code",
      "execution_count": 117,
      "metadata": {
        "colab": {
          "base_uri": "https://localhost:8080/"
        },
        "id": "UvQzRBjtTg_P",
        "outputId": "1115edd8-3d5d-484d-9441-28c575ea9c91"
      },
      "outputs": [
        {
          "output_type": "stream",
          "name": "stdout",
          "text": [
            "Original:\n",
            "[[10 15]\n",
            " [20 30]\n",
            " [40 50]]\n",
            "\n",
            "Shuffled:\n",
            "[[10 15]\n",
            " [40 50]\n",
            " [20 30]]\n"
          ]
        }
      ],
      "source": [
        "intial_tensor_data = tf.constant([[10, 15], [20, 30], [40, 50]])\n",
        "print(\"Original:\")\n",
        "print(intial_tensor_data.numpy())\n",
        "# shuffle the elements\n",
        "shuffled_intial_tensor_data = tf.random.shuffle(intial_tensor_data)\n",
        "print(\"\\nShuffled:\")\n",
        "print(shuffled_intial_tensor_data.numpy())"
      ]
    },
    {
      "cell_type": "markdown",
      "metadata": {
        "id": "VY5lmHGF0Fyd"
      },
      "source": [
        "### Random seeds for random tensor generation\n",
        "\n",
        "TensorFlow has two ways we can set the random seed for random tensor generation:\n",
        "* Global-level random seed setting\n",
        "* Operation-level random seed setting"
      ]
    },
    {
      "cell_type": "markdown",
      "metadata": {
        "id": "zGLjASP30Qz9"
      },
      "source": [
        "Global-level random seed...\n",
        "\n",
        "We set the global seeds with `tf.random.set_seed(seed=integer_value)`. A global seed is shared for all TensorFlow operations in that notebook, which means that any random operation will be affected by it. Typically, we set the global seed at the beginning of your script or notebook."
      ]
    },
    {
      "cell_type": "code",
      "execution_count": 118,
      "metadata": {
        "colab": {
          "base_uri": "https://localhost:8080/"
        },
        "id": "Y6NwHf4FTg6o",
        "outputId": "6915346c-07a0-4473-b56e-592dbd23c43d"
      },
      "outputs": [
        {
          "output_type": "stream",
          "name": "stdout",
          "text": [
            "tf.Tensor(\n",
            "[[[0.6645621  0.44100678]\n",
            "  [0.3528825  0.46448255]\n",
            "  [0.03366041 0.68467236]]], shape=(1, 3, 2), dtype=float32)\n"
          ]
        }
      ],
      "source": [
        "# set the global random seed\n",
        "tf.random.set_seed(42)\n",
        "\n",
        "random_tensor = tf.random.uniform(shape=[1, 3, 2])\n",
        "\n",
        "print(random_tensor)"
      ]
    },
    {
      "cell_type": "markdown",
      "metadata": {
        "id": "JcoTXJcw3o5r"
      },
      "source": [
        "reproducibility..."
      ]
    },
    {
      "cell_type": "code",
      "execution_count": 119,
      "metadata": {
        "colab": {
          "base_uri": "https://localhost:8080/"
        },
        "id": "ywjixj1GTg39",
        "outputId": "af418180-fc9b-424c-e22a-afde2b1f7fc3"
      },
      "outputs": [
        {
          "output_type": "stream",
          "name": "stdout",
          "text": [
            "tf.Tensor(\n",
            "[[[0.6645621  0.44100678]\n",
            "  [0.3528825  0.46448255]\n",
            "  [0.03366041 0.68467236]]], shape=(1, 3, 2), dtype=float32)\n"
          ]
        }
      ],
      "source": [
        "# set the global random seed\n",
        "tf.random.set_seed(42)\n",
        "random_tensor = tf.random.uniform(shape=[1, 3, 2])\n",
        "\n",
        "print(random_tensor)"
      ]
    },
    {
      "cell_type": "markdown",
      "metadata": {
        "id": "xwxZM2l43raw"
      },
      "source": [
        "try change the seed value...changing the seed value results will be different for the same tensor"
      ]
    },
    {
      "cell_type": "code",
      "execution_count": 120,
      "metadata": {
        "colab": {
          "base_uri": "https://localhost:8080/"
        },
        "id": "4sHZyS3l_VZo",
        "outputId": "e924f1e4-483a-4501-c7ad-b5f0f82b54fe"
      },
      "outputs": [
        {
          "output_type": "stream",
          "name": "stdout",
          "text": [
            "tf.Tensor(\n",
            "[[[1.3107703  0.6408731 ]\n",
            "  [1.05103    0.6807246 ]\n",
            "  [0.4192264  0.31657004]]], shape=(1, 3, 2), dtype=float32)\n"
          ]
        }
      ],
      "source": [
        "# set a different global random seed value\n",
        "tf.random.set_seed(123)\n",
        "random_tensor = tf.random.uniform(shape=[1, 3, 2],\n",
        "                                          maxval=0,\n",
        "                                          minval=1.5)\n",
        "\n",
        "print(random_tensor)"
      ]
    },
    {
      "cell_type": "markdown",
      "source": [
        "Operational level random seed...\n",
        "\n",
        "Operational-level random seeds are currently the most recommended way to ensure the reproducibility of random tensors. We set the seed with `tf.random.Generator` class. Each random tensor generated with this class has its own random seed, thus unique randomness. This can be helpful when we want different parts of the code to have independent random sequences."
      ],
      "metadata": {
        "id": "iJO1uU9A-a3z"
      }
    },
    {
      "cell_type": "code",
      "execution_count": 121,
      "metadata": {
        "colab": {
          "base_uri": "https://localhost:8080/"
        },
        "id": "QKcinx2m_VWX",
        "outputId": "70577b65-8e59-40a3-8585-21794357037d"
      },
      "outputs": [
        {
          "output_type": "stream",
          "name": "stdout",
          "text": [
            "tf.Tensor(\n",
            "[[-0.7565803  -0.06854702]\n",
            " [ 0.07595026 -1.2573844 ]\n",
            " [-0.23193763 -1.8107855 ]\n",
            " [ 0.09988727 -0.50998646]], shape=(4, 2), dtype=float32)\n",
            "tf.Tensor(\n",
            "[[[0.2674625  0.32031918 0.4377985 ]\n",
            "  [0.57189393 0.65885174 0.11768913]\n",
            "  [0.11456561 0.19414282 0.03774476]]], shape=(1, 3, 3), dtype=float32)\n"
          ]
        }
      ],
      "source": [
        "# Create two instances of tf.random.Generator\n",
        "# with different seeds\n",
        "random_generator1 = tf.random.Generator.from_seed(42)\n",
        "random_generator2 = tf.random.Generator.from_seed(123)\n",
        "\n",
        "# use the generators for random tensor generation\n",
        "random_tensor1 = random_generator1.normal(shape=[4, 2])\n",
        "random_tensor2 = random_generator1.uniform(shape=[1, 3, 3])\n",
        "\n",
        "print(random_tensor1)\n",
        "print(random_tensor2)"
      ]
    },
    {
      "cell_type": "markdown",
      "source": [
        "#### Ragged tensors\n",
        "A ragged tensor is mainly used to represent sequences of variable lengths. While dense tensors have dimensions of fixed sizes, ragged tensors have some of their dimension sizes varying. They can be helpful in tasks like NLP, where there are sequences of sentences with different numbers of words.\n",
        "\n",
        "`tf.ragged.constant()`"
      ],
      "metadata": {
        "id": "eWqVNA60RWp9"
      }
    },
    {
      "cell_type": "code",
      "execution_count": 122,
      "metadata": {
        "id": "B1RSl1nt_VRC",
        "colab": {
          "base_uri": "https://localhost:8080/"
        },
        "outputId": "a27d1a7b-7800-4c5f-d330-cdb2f8e25a15"
      },
      "outputs": [
        {
          "output_type": "stream",
          "name": "stdout",
          "text": [
            "ValueError: Can't convert non-rectangular Python sequence to Tensor.\n",
            "\n",
            "Converted to ragged tensor:\n",
            "<tf.RaggedTensor [[1.5, 3.0, 2.3], [4.5, 0.5], [0.8]]>\n"
          ]
        }
      ],
      "source": [
        "# sample array of varying dimension sizes\n",
        "ragged_array = [\n",
        "    [1.5, 3.0, 2.3],\n",
        "    [4.5, 0.5],\n",
        "    [0.8]]\n",
        "\n",
        "# we can not convert it to a dense tensor\n",
        "try:\n",
        "  tensor = tf.constant(ragged_array)\n",
        "except Exception as e:\n",
        "  print(f\"{type(e).__name__}: {e}\")\n",
        "\n",
        "# instead we can convert it to a ragged tensor\n",
        "ragged_tensor = tf.ragged.constant(ragged_array)\n",
        "print(\"\\nConverted to ragged tensor:\")\n",
        "print(ragged_tensor)"
      ]
    },
    {
      "cell_type": "markdown",
      "source": [
        "Ragged tensor encoding...\n",
        "\n",
        "You notice that the ragged tensor is not presented like normal tensors. Instead, it is encoded such that its variable-length rows are concatenated into a flattened list. The flattened list has row partitions that indicate the row divisions:"
      ],
      "metadata": {
        "id": "BRF55aenn_NG"
      }
    },
    {
      "cell_type": "markdown",
      "source": [
        "#### Constructing a ragged tensor using <code>value_rowids</code> partitioning tensor"
      ],
      "metadata": {
        "id": "jxIAbF198JRO"
      }
    },
    {
      "cell_type": "code",
      "execution_count": 123,
      "metadata": {
        "id": "6M8P5ry9_VLb",
        "colab": {
          "base_uri": "https://localhost:8080/"
        },
        "outputId": "13dcf022-dc6d-4bc6-877b-754208da4691"
      },
      "outputs": [
        {
          "output_type": "stream",
          "name": "stdout",
          "text": [
            "Values: [20 30 40 50 60 70]\n",
            "Row ids: [0 0 0 1 1 2]\n",
            "Ragged tensor from value_row_ids:\n",
            " <tf.RaggedTensor [[20, 30, 40], [50, 60], [70]]>\n"
          ]
        }
      ],
      "source": [
        "# tf.RaggedTensor.from_value_rowids\n",
        "\n",
        "values = tf.constant([20, 30, 40, 50, 60, 70]) # must be a vector\n",
        "row_ids = tf.constant([0, 0, 0, 1, 1, 2]) # integer vector specifying the row index for each value\n",
        "print(\"Values:\" ,values.numpy())\n",
        "print(\"Row ids:\" ,row_ids.numpy())\n",
        "\n",
        "ragged_tensor = tf.RaggedTensor.from_value_rowids(values = values, value_rowids=row_ids)\n",
        "print(\"Ragged tensor from value_row_ids:\\n\" , ragged_tensor)"
      ]
    },
    {
      "cell_type": "markdown",
      "source": [
        "Constructing a ragged tensor using `row_lengths` partitioning tensor\n"
      ],
      "metadata": {
        "id": "gm7-1lFo8czS"
      }
    },
    {
      "cell_type": "code",
      "source": [
        "# tf.RaggedTensor.from_row_lengths\n",
        "values = tf.constant([20, 30, 40, 50, 60, 70]) # must be a vector\n",
        "row_lengths = tf.constant([3, 2, 1]) # integer vector specifying the length of each row\n",
        "\n",
        "# ragged tensor\n",
        "ragged_tensor2 = tf.RaggedTensor.from_row_lengths(values = values,\n",
        "                                                  row_lengths = row_lengths)\n",
        "print(\"Values:\" ,values.numpy())\n",
        "print(\"Row lengths:\" ,row_lengths.numpy())\n",
        "print(\"Ragged tensor from row lengths:\\n\" , ragged_tensor2)"
      ],
      "metadata": {
        "id": "ZJnAFWoTn6vE",
        "colab": {
          "base_uri": "https://localhost:8080/"
        },
        "outputId": "926138f6-1f83-4631-bcc5-5c5295efffa9"
      },
      "execution_count": 124,
      "outputs": [
        {
          "output_type": "stream",
          "name": "stdout",
          "text": [
            "Values: [20 30 40 50 60 70]\n",
            "Row lengths: [3 2 1]\n",
            "Ragged tensor from row lengths:\n",
            " <tf.RaggedTensor [[20, 30, 40], [50, 60], [70]]>\n"
          ]
        }
      ]
    },
    {
      "cell_type": "markdown",
      "source": [
        "Constructing a ragged tensor using <code>row_splits</code> partitioning tensor"
      ],
      "metadata": {
        "id": "99xiloodIV3L"
      }
    },
    {
      "cell_type": "code",
      "source": [
        "# tf.RaggedTensor.from_row_splits\n",
        "values = tf.constant([20, 30, 40, 50, 60, 70]) # must be a vector\n",
        "row_splits = tf.constant([0, 3, 5, 6]) # integer vector specifying\n",
        "                                       # the split points between rows\n",
        "\n",
        "ragged_tensor3 = tf.RaggedTensor.from_row_splits(values = values,\n",
        "                                                  row_splits = row_splits)\n",
        "\n",
        "print(\"Values:\" ,values.numpy())\n",
        "print(\"Row splits:\" ,row_lengths.numpy())\n",
        "print(\"Ragged tensor from row_splits:\\n\" , ragged_tensor3)"
      ],
      "metadata": {
        "id": "o40IOqVlqC_k",
        "colab": {
          "base_uri": "https://localhost:8080/"
        },
        "outputId": "efd63808-360a-43db-a84e-f3e8f7312063"
      },
      "execution_count": 125,
      "outputs": [
        {
          "output_type": "stream",
          "name": "stdout",
          "text": [
            "Values: [20 30 40 50 60 70]\n",
            "Row splits: [3 2 1]\n",
            "Ragged tensor from row_splits:\n",
            " <tf.RaggedTensor [[20, 30, 40], [50, 60], [70]]>\n"
          ]
        }
      ]
    },
    {
      "cell_type": "code",
      "source": [
        "# shape of the ragged_tensor3 above\n",
        "print(ragged_tensor3.shape) # static shape\n",
        "\n",
        "print(tf.shape(ragged_tensor3)) # dynamic shape"
      ],
      "metadata": {
        "colab": {
          "base_uri": "https://localhost:8080/"
        },
        "id": "AwxCP-uYtGCp",
        "outputId": "c809c365-509d-47b7-cd2f-5e8f26926543"
      },
      "execution_count": 126,
      "outputs": [
        {
          "output_type": "stream",
          "name": "stdout",
          "text": [
            "(3, None)\n",
            "<DynamicRaggedShape lengths=[3, (3, 2, 1)] num_row_partitions=1>\n"
          ]
        }
      ]
    },
    {
      "cell_type": "markdown",
      "source": [
        "### Sparse Tensors"
      ],
      "metadata": {
        "id": "DntJojXuA1qz"
      }
    },
    {
      "cell_type": "code",
      "source": [
        "# indices of non-zero values\n",
        "indices = tf.constant([[0, 1], [1, 2], [2, 0]], dtype=tf.int64)\n",
        "# the nonzero values in the tensor\n",
        "values = tf.constant([15, 25, 35], dtype=tf.float32)\n",
        "# define the tensor's shape\n",
        "shape = tf.constant([4,3], dtype=tf.int64)\n",
        "\n",
        "sparse_tensor = tf.sparse.SparseTensor(indices = indices,\n",
        "                                       values = values,\n",
        "                                       dense_shape= shape)\n",
        "print(sparse_tensor)"
      ],
      "metadata": {
        "id": "gLe4a_vjtF9m",
        "colab": {
          "base_uri": "https://localhost:8080/"
        },
        "outputId": "e592d1f6-3e38-40d3-d906-7108fd3d901a"
      },
      "execution_count": 127,
      "outputs": [
        {
          "output_type": "stream",
          "name": "stdout",
          "text": [
            "SparseTensor(indices=tf.Tensor(\n",
            "[[0 1]\n",
            " [1 2]\n",
            " [2 0]], shape=(3, 2), dtype=int64), values=tf.Tensor([15. 25. 35.], shape=(3,), dtype=float32), dense_shape=tf.Tensor([4 3], shape=(2,), dtype=int64))\n"
          ]
        }
      ]
    },
    {
      "cell_type": "code",
      "source": [
        "# convert sparse tensor to dense tensor\n",
        "sparse_to_dense_tensor = tf.sparse.to_dense(sparse_tensor)\n",
        "print(sparse_to_dense_tensor)"
      ],
      "metadata": {
        "id": "6CIv0vyy4VEv",
        "colab": {
          "base_uri": "https://localhost:8080/"
        },
        "outputId": "31ce8ed7-c461-469e-bb2d-eb0187b98efc"
      },
      "execution_count": 128,
      "outputs": [
        {
          "output_type": "stream",
          "name": "stdout",
          "text": [
            "tf.Tensor(\n",
            "[[ 0. 15.  0.]\n",
            " [ 0.  0. 25.]\n",
            " [35.  0.  0.]\n",
            " [ 0.  0.  0.]], shape=(4, 3), dtype=float32)\n"
          ]
        }
      ]
    },
    {
      "cell_type": "markdown",
      "source": [
        "## Operations with tensors"
      ],
      "metadata": {
        "id": "9eAyXpwg1PNF"
      }
    },
    {
      "cell_type": "markdown",
      "source": [
        "Indexing tensors follows the basic Python and NumPy indexing rules, which include:\n",
        "* Indexes start at 0\n",
        "* Negative indices count backward from the end.\n",
        "* Colons, :, are used for slices: `start:stop:step`"
      ],
      "metadata": {
        "id": "rBMyfEmkrEKb"
      }
    },
    {
      "cell_type": "code",
      "source": [
        "tensor = tf.constant([20, 30, 40, 50, 15, 45, 100, 120])\n",
        "print(f\"Tensor: {tensor.numpy()}\")\n",
        "\n",
        "# return everything\n",
        "print(f\"Return everything: {tensor[:]}\")\n",
        "print(f\"First 3 elements: {tensor[:3]}\")\n",
        "print(f\"All elements after first 3 elements: {tensor[3:]}\")\n",
        "print(f\"Every other item: {tensor[::2]}\")\n",
        "print(f\"Elements between fourth and before 7th element: {tensor[3:6]}\")\n",
        "print(f\"Reversing: {tensor[::-1]}\")"
      ],
      "metadata": {
        "id": "ZZBDU9v54U_U",
        "colab": {
          "base_uri": "https://localhost:8080/"
        },
        "outputId": "93ad9d18-1604-4299-df01-07a350dff3b0"
      },
      "execution_count": 129,
      "outputs": [
        {
          "output_type": "stream",
          "name": "stdout",
          "text": [
            "Tensor: [ 20  30  40  50  15  45 100 120]\n",
            "Return everything: [ 20  30  40  50  15  45 100 120]\n",
            "First 3 elements: [20 30 40]\n",
            "All elements after first 3 elements: [ 50  15  45 100 120]\n",
            "Every other item: [ 20  40  15 100]\n",
            "Elements between fourth and before 7th element: [50 15 45]\n",
            "Reversing: [120 100  45  15  50  40  30  20]\n"
          ]
        }
      ]
    },
    {
      "cell_type": "code",
      "source": [
        "rank_2tensor = tf.constant([[20, 30, 40], [50, 15, 45], [100, 120, 150]])\n",
        "print(f\"Tensor:\\n{rank_2tensor.numpy()}\")\n",
        "\n",
        "print(f\"Second row:, {rank_2tensor[1, :].numpy()}\")\n",
        "print(f\"Second column:, {rank_2tensor[:, 1].numpy()}\")\n",
        "print(f\"Last row:, {rank_2tensor[-1, :].numpy()}\")\n",
        "print(f\"First item in last column:, {rank_2tensor[0, -1].numpy()}\")\n",
        "print(f\"Second row onwards:\\n {rank_2tensor[1:, :].numpy()}\")"
      ],
      "metadata": {
        "id": "9bXJqK_VtF6t",
        "colab": {
          "base_uri": "https://localhost:8080/"
        },
        "outputId": "7c4b6035-9017-4370-96b7-0255a13f47e3"
      },
      "execution_count": 130,
      "outputs": [
        {
          "output_type": "stream",
          "name": "stdout",
          "text": [
            "Tensor:\n",
            "[[ 20  30  40]\n",
            " [ 50  15  45]\n",
            " [100 120 150]]\n",
            "Second row:, [50 15 45]\n",
            "Second column:, [ 30  15 120]\n",
            "Last row:, [100 120 150]\n",
            "First item in last column:, 40\n",
            "Second row onwards:\n",
            " [[ 50  15  45]\n",
            " [100 120 150]]\n"
          ]
        }
      ]
    },
    {
      "cell_type": "markdown",
      "source": [
        "Using `tf.slice`\n",
        "\n",
        "`tf.slice` takes begin and size parameters. begin specifies the start index for the slicing, while thesizespecifies the number of elements to slice."
      ],
      "metadata": {
        "id": "ya0rW-vLlxLO"
      }
    },
    {
      "cell_type": "code",
      "source": [
        "tensor = tf.constant([20, 30, 40, 50, 15, 25, 60])\n",
        "print(f\"Tensor:\\n{rank_2tensor.numpy()}\")\n",
        "\n",
        "# slice with tf.slice\n",
        "begin = [2] # begin at index 2\n",
        "size = [3] # number of elements to slice starting from begin index\n",
        "t_slice = tf.slice(tensor, begin = begin, size=size)\n",
        "print(f\"\\nSlice: {t_slice.numpy()}\") # similar to tensor[2:5]"
      ],
      "metadata": {
        "id": "kOjVLjsRtF35",
        "colab": {
          "base_uri": "https://localhost:8080/"
        },
        "outputId": "bcf89d12-8bcd-4f3b-dd16-ad031f33f735"
      },
      "execution_count": 131,
      "outputs": [
        {
          "output_type": "stream",
          "name": "stdout",
          "text": [
            "Tensor:\n",
            "[[ 20  30  40]\n",
            " [ 50  15  45]\n",
            " [100 120 150]]\n",
            "\n",
            "Slice: [40 50 15]\n"
          ]
        }
      ]
    },
    {
      "cell_type": "code",
      "source": [
        "r3_tensor = tf.constant([\n",
        "    [[20, 30, 40, 15],\n",
        "     [50, 15, 25, 60]],\n",
        "    [[5, 16, 21, 17],\n",
        "     [9, 11, 35, 13]]])\n",
        "\n",
        "r3_slice = tf.slice(r3_tensor, begin=[1, 1, 1], size=[1, 1, 2])\n",
        "print(f\"Tensor: \\n{r3_tensor.numpy()}\")\n",
        "print(f\"\\nr3_slice: {r3_slice.numpy()}\")"
      ],
      "metadata": {
        "id": "yC8z3_cHtFy4",
        "colab": {
          "base_uri": "https://localhost:8080/"
        },
        "outputId": "59b07c11-fd4f-445d-a9ba-4cc31e22c89b"
      },
      "execution_count": 132,
      "outputs": [
        {
          "output_type": "stream",
          "name": "stdout",
          "text": [
            "Tensor: \n",
            "[[[20 30 40 15]\n",
            "  [50 15 25 60]]\n",
            "\n",
            " [[ 5 16 21 17]\n",
            "  [ 9 11 35 13]]]\n",
            "\n",
            "r3_slice: [[[11 35]]]\n"
          ]
        }
      ]
    },
    {
      "cell_type": "markdown",
      "source": [
        "Using `tf.gather`\n",
        "\n",
        "`tf.gather` extracts specific indices from a single axis/dimension of a tensor. The indices must be an integer tensor of any dimension but primarily 1D."
      ],
      "metadata": {
        "id": "o1AOH8PtmFv7"
      }
    },
    {
      "cell_type": "code",
      "source": [
        "print(f\"r1_tTensor: {tensor.numpy()}\")\n",
        "print(f\"Gathered:\\n {tf.gather(tensor, indices=[1, 5])}\") # take index 1 and 5"
      ],
      "metadata": {
        "colab": {
          "base_uri": "https://localhost:8080/"
        },
        "id": "LuFL-CBvmFpu",
        "outputId": "8a8ac088-0ca9-4f66-d118-84959f7942ce"
      },
      "execution_count": 133,
      "outputs": [
        {
          "output_type": "stream",
          "name": "stdout",
          "text": [
            "r1_tTensor: [20 30 40 50 15 25 60]\n",
            "Gathered:\n",
            " [30 25]\n"
          ]
        }
      ]
    },
    {
      "cell_type": "code",
      "source": [
        "print(f\"r2_tensor: \\n{rank_2tensor}\")\n",
        "print(\"Gathered:\")\n",
        "print(tf.gather(rank_2tensor, indices=[0, 2], axis=1).numpy())"
      ],
      "metadata": {
        "colab": {
          "base_uri": "https://localhost:8080/"
        },
        "id": "and581hCsBmN",
        "outputId": "2f371daf-50b8-4181-b93a-993c10585b16"
      },
      "execution_count": 134,
      "outputs": [
        {
          "output_type": "stream",
          "name": "stdout",
          "text": [
            "r2_tensor: \n",
            "[[ 20  30  40]\n",
            " [ 50  15  45]\n",
            " [100 120 150]]\n",
            "Gathered:\n",
            "[[ 20  40]\n",
            " [ 50  45]\n",
            " [100 150]]\n"
          ]
        }
      ]
    },
    {
      "cell_type": "code",
      "source": [
        "tensor_2d = tf.constant([\n",
        "    [1, 2, 3, 4, 5],\n",
        "    [6, 7, 8, 9, 10],\n",
        "    [11, 12, 13, 14, 15]])\n",
        "indices = tf.constant([\n",
        "    [2, 4],\n",
        "    [0, 4],\n",
        "    [1, 3]])\n",
        "print(tensor_2d.numpy())\n",
        "print()\n",
        "print(tf.gather(tensor_2d, indices=indices, batch_dims=1).numpy())"
      ],
      "metadata": {
        "id": "1aIFcwkNmFnd",
        "colab": {
          "base_uri": "https://localhost:8080/"
        },
        "outputId": "a986a261-a8b4-4894-d765-d7d81c59a93d"
      },
      "execution_count": 135,
      "outputs": [
        {
          "output_type": "stream",
          "name": "stdout",
          "text": [
            "[[ 1  2  3  4  5]\n",
            " [ 6  7  8  9 10]\n",
            " [11 12 13 14 15]]\n",
            "\n",
            "[[ 3  5]\n",
            " [ 6 10]\n",
            " [12 14]]\n"
          ]
        }
      ]
    },
    {
      "cell_type": "markdown",
      "source": [
        "## Operations for reshaping and manipulating tensors:\n",
        "* `tf.reshape`\n",
        "* `tf.squeeze`\n",
        "* `tf.split`\n",
        "* `tf.expand_dims`\n",
        "* `tf.transpose`\n",
        "* `tf.concat`"
      ],
      "metadata": {
        "id": "HyhpBSoMTRRJ"
      }
    },
    {
      "cell_type": "markdown",
      "source": [
        "#### Reshaping...\n",
        "\n",
        "`tf.reshape` enables us to reshape a tensor without altering its data(only the shape is changed!)."
      ],
      "metadata": {
        "id": "9iyN10RjTjB_"
      }
    },
    {
      "cell_type": "code",
      "source": [
        "tensor = tf.constant([[1, 2, 3, 4],\n",
        "                      [5, 6, 7, 8]])\n",
        "print(f\"Tensor:\\n{tensor.numpy()} \\nOld shape: {tensor.shape}\")\n",
        "\n",
        "# reshape\n",
        "tensor = tf.reshape(tensor, [2, 2, 2])\n",
        "print(f\"Reshaped:\\n{tensor.numpy()} \\nNew shape: {tensor.shape}\")"
      ],
      "metadata": {
        "id": "xWR8svcXmFhk",
        "colab": {
          "base_uri": "https://localhost:8080/"
        },
        "outputId": "967aaba9-2a21-411a-8469-1abc0c310e4d"
      },
      "execution_count": 136,
      "outputs": [
        {
          "output_type": "stream",
          "name": "stdout",
          "text": [
            "Tensor:\n",
            "[[1 2 3 4]\n",
            " [5 6 7 8]] \n",
            "Old shape: (2, 4)\n",
            "Reshaped:\n",
            "[[[1 2]\n",
            "  [3 4]]\n",
            "\n",
            " [[5 6]\n",
            "  [7 8]]] \n",
            "New shape: (2, 2, 2)\n"
          ]
        }
      ]
    },
    {
      "cell_type": "code",
      "source": [
        "var_tensor = tf.Variable([[[1, 2, 3, 4],\n",
        "                        [5, 6, 7, 8]],\n",
        "                       [[9, 10, 11, 12],\n",
        "                        [13, 14, 15, 16]]])\n",
        "print(f\"Tensor:\\n{var_tensor.numpy()} \\nOld shape: {var_tensor.shape}\")\n",
        "\n",
        "# reshape\n",
        "var_tensor = tf.reshape(var_tensor, [4, 4])\n",
        "print(f\"Reshaped:\\n{var_tensor.numpy()} \\nNew shape: {var_tensor.shape}\")\n"
      ],
      "metadata": {
        "id": "JPAG5Ha8mFdZ",
        "colab": {
          "base_uri": "https://localhost:8080/"
        },
        "outputId": "1effb255-3b3b-4924-f883-7d6d2350066c"
      },
      "execution_count": 137,
      "outputs": [
        {
          "output_type": "stream",
          "name": "stdout",
          "text": [
            "Tensor:\n",
            "[[[ 1  2  3  4]\n",
            "  [ 5  6  7  8]]\n",
            "\n",
            " [[ 9 10 11 12]\n",
            "  [13 14 15 16]]] \n",
            "Old shape: (2, 2, 4)\n",
            "Reshaped:\n",
            "[[ 1  2  3  4]\n",
            " [ 5  6  7  8]\n",
            " [ 9 10 11 12]\n",
            " [13 14 15 16]] \n",
            "New shape: (4, 4)\n"
          ]
        }
      ]
    },
    {
      "cell_type": "markdown",
      "source": [
        "Flatten the tensor into a 1D(rank 1) tensor"
      ],
      "metadata": {
        "id": "WIhAbzYucP3R"
      }
    },
    {
      "cell_type": "code",
      "source": [
        "# flatten the variable tensor\n",
        "print(f\"Tensor:\\n{var_tensor.numpy()}\")\n",
        "\n",
        "var_tensor = tf.reshape(var_tensor, [-1])\n",
        "print(f\"Flattened:\\n{var_tensor.numpy()} \\nNew shape: {var_tensor.shape}\")"
      ],
      "metadata": {
        "id": "Lk0L0whEmFar",
        "colab": {
          "base_uri": "https://localhost:8080/"
        },
        "outputId": "aaf9ae41-73a3-4daa-a284-6487e4187da2"
      },
      "execution_count": 138,
      "outputs": [
        {
          "output_type": "stream",
          "name": "stdout",
          "text": [
            "Tensor:\n",
            "[[ 1  2  3  4]\n",
            " [ 5  6  7  8]\n",
            " [ 9 10 11 12]\n",
            " [13 14 15 16]]\n",
            "Flattened:\n",
            "[ 1  2  3  4  5  6  7  8  9 10 11 12 13 14 15 16] \n",
            "New shape: (16,)\n"
          ]
        }
      ]
    },
    {
      "cell_type": "markdown",
      "source": [
        "#### Transposing...`tf.transpose`\n",
        "\n",
        "Transposing a tensor means switching its rows and columns. For instance, in a rank 2 tensor, that means swapping its rows and columns"
      ],
      "metadata": {
        "id": "Tskmf3z1kUu_"
      }
    },
    {
      "cell_type": "code",
      "source": [
        "var_tensor = tf.reshape(var_tensor, [2, 2, 4])\n",
        "print(f\"Tensor:\\n{var_tensor.numpy()} shape before: {tf.shape(var_tensor)}\")\n",
        "\n",
        "# transpose\n",
        "var_tensor = tf.transpose(var_tensor, perm=[0, 2, 1]) # row => columns, columns => rows\n",
        "print(f\"Transposed:\\n{var_tensor.numpy()}\\\n",
        "      shape after: {tf.shape(var_tensor)}\")"
      ],
      "metadata": {
        "id": "FHRjaQtaqCro",
        "colab": {
          "base_uri": "https://localhost:8080/"
        },
        "outputId": "979d717e-bbfa-4af9-92bf-c4298723f9b6"
      },
      "execution_count": 139,
      "outputs": [
        {
          "output_type": "stream",
          "name": "stdout",
          "text": [
            "Tensor:\n",
            "[[[ 1  2  3  4]\n",
            "  [ 5  6  7  8]]\n",
            "\n",
            " [[ 9 10 11 12]\n",
            "  [13 14 15 16]]] shape before: [2 2 4]\n",
            "Transposed:\n",
            "[[[ 1  5]\n",
            "  [ 2  6]\n",
            "  [ 3  7]\n",
            "  [ 4  8]]\n",
            "\n",
            " [[ 9 13]\n",
            "  [10 14]\n",
            "  [11 15]\n",
            "  [12 16]]]      shape after: [2 4 2]\n"
          ]
        }
      ]
    },
    {
      "cell_type": "code",
      "source": [
        "# Create a tensor representing a single image with batch dimension\n",
        "image_with_batch = tf.constant([[[[1, 2, 3], [4, 5, 6]]]])\n",
        "\n",
        "# Squeeze batch dimension\n",
        "image_without_batch = tf.squeeze(image_with_batch, axis=0)\n",
        "\n",
        "print(\"Original Image with Batch Dimension:\")\n",
        "print(image_with_batch)\n",
        "print(\"Image without Batch Dimension:\")\n",
        "print(image_without_batch)"
      ],
      "metadata": {
        "id": "GrAZxI75qCow",
        "colab": {
          "base_uri": "https://localhost:8080/"
        },
        "outputId": "1b731df3-0b6d-4934-a7f9-56edac421a87"
      },
      "execution_count": 140,
      "outputs": [
        {
          "output_type": "stream",
          "name": "stdout",
          "text": [
            "Original Image with Batch Dimension:\n",
            "tf.Tensor(\n",
            "[[[[1 2 3]\n",
            "   [4 5 6]]]], shape=(1, 1, 2, 3), dtype=int32)\n",
            "Image without Batch Dimension:\n",
            "tf.Tensor(\n",
            "[[[1 2 3]\n",
            "  [4 5 6]]], shape=(1, 2, 3), dtype=int32)\n"
          ]
        }
      ]
    },
    {
      "cell_type": "markdown",
      "source": [
        "#### Squeezing tensors(removing dimensions of size 1) ... `tf.squeeze`\n",
        "\n",
        "Squeezing does not change the data in the tensor but only modifies its shape."
      ],
      "metadata": {
        "id": "5Ay8CXzSxL_4"
      }
    },
    {
      "cell_type": "code",
      "source": [
        "tensor = tf.constant([[[10], [15], [30]]])\n",
        "print(f\"Tensor:\\n{tensor} => shape: {tf.shape(tensor)}\")\n",
        "\n",
        "# squeeze\n",
        "tensor = tf.squeeze(tensor)\n",
        "print(\"\\nSqueezed:\")\n",
        "print(f\"{tensor.numpy()} => New shape: {tf.shape(tensor)}\")"
      ],
      "metadata": {
        "colab": {
          "base_uri": "https://localhost:8080/"
        },
        "id": "RfDNtF0q0uUC",
        "outputId": "0401d27c-783d-48f4-ed73-b571c3a5278c"
      },
      "execution_count": 141,
      "outputs": [
        {
          "output_type": "stream",
          "name": "stdout",
          "text": [
            "Tensor:\n",
            "[[[10]\n",
            "  [15]\n",
            "  [30]]] => shape: [1 3 1]\n",
            "\n",
            "Squeezed:\n",
            "[10 15 30] => New shape: [3]\n"
          ]
        }
      ]
    },
    {
      "cell_type": "code",
      "source": [
        "tensor2 = tf.constant([[[[1, 2, 3, 4],\n",
        "                        [5, 6, 7, 8]],\n",
        "                       [[9, 10, 11, 13],\n",
        "                        [14, 15, 16, 17]]]])\n",
        "\n",
        "print(f\"Tensor:\\n{tensor2} => shape: {tf.shape(tensor2)}\")\n",
        "\n",
        "# squeeze\n",
        "tensor2 = tf.squeeze(tensor2, axis=[0])\n",
        "print(f\"\\nSqueezed:\\n {tensor2.numpy()} => New shape: {tf.shape(tensor2)}\")"
      ],
      "metadata": {
        "colab": {
          "base_uri": "https://localhost:8080/"
        },
        "id": "5MhpgkD1xL7M",
        "outputId": "05d61646-daf7-4cd7-e5ba-89bab76e4d46"
      },
      "execution_count": 142,
      "outputs": [
        {
          "output_type": "stream",
          "name": "stdout",
          "text": [
            "Tensor:\n",
            "[[[[ 1  2  3  4]\n",
            "   [ 5  6  7  8]]\n",
            "\n",
            "  [[ 9 10 11 13]\n",
            "   [14 15 16 17]]]] => shape: [1 2 2 4]\n",
            "\n",
            "Squeezed:\n",
            " [[[ 1  2  3  4]\n",
            "  [ 5  6  7  8]]\n",
            "\n",
            " [[ 9 10 11 13]\n",
            "  [14 15 16 17]]] => New shape: [2 2 4]\n"
          ]
        }
      ]
    },
    {
      "cell_type": "code",
      "source": [
        "tensor3 = tf.constant([[[10]],\n",
        "                       [[11]],\n",
        "                       [[9]]])\n",
        "print(f\"Tensor:\\n{tensor3} => shape: {tf.shape(tensor3)}\")\n",
        "\n",
        "# specify the axis(squeeze axis 2)\n",
        "tensor3 = tf.squeeze(tensor3, axis=[2])\n",
        "print(\"\\nSqueezed:\")\n",
        "print(f\"{tensor3.numpy()} => New shape: {tf.shape(tensor3)}\")"
      ],
      "metadata": {
        "id": "gtHFbsokxLsa",
        "colab": {
          "base_uri": "https://localhost:8080/"
        },
        "outputId": "a40d2911-3bcc-4b17-c5a1-1002f40d62d3"
      },
      "execution_count": 143,
      "outputs": [
        {
          "output_type": "stream",
          "name": "stdout",
          "text": [
            "Tensor:\n",
            "[[[10]]\n",
            "\n",
            " [[11]]\n",
            "\n",
            " [[ 9]]] => shape: [3 1 1]\n",
            "\n",
            "Squeezed:\n",
            "[[10]\n",
            " [11]\n",
            " [ 9]] => New shape: [3 1]\n"
          ]
        }
      ]
    },
    {
      "cell_type": "code",
      "source": [
        "tensor_with_singleton_dim = tf.constant([[[1], [2], [3]]])\n",
        "tf.squeeze(tensor_with_singleton_dim).numpy()"
      ],
      "metadata": {
        "colab": {
          "base_uri": "https://localhost:8080/"
        },
        "id": "lv4KtizuxL4D",
        "outputId": "11515de4-3a38-4f07-ebdf-aab394958004"
      },
      "execution_count": 144,
      "outputs": [
        {
          "output_type": "execute_result",
          "data": {
            "text/plain": [
              "array([1, 2, 3], dtype=int32)"
            ]
          },
          "metadata": {},
          "execution_count": 144
        }
      ]
    },
    {
      "cell_type": "code",
      "source": [
        "ragged = tf.ragged.constant([[[20],\n",
        "                              [16, 18],\n",
        "                              [9, 1, 3, 6, 11]]])\n",
        "\n",
        "tf.squeeze(ragged, axis=[0])"
      ],
      "metadata": {
        "colab": {
          "base_uri": "https://localhost:8080/"
        },
        "id": "Xkj7wb2KxL1U",
        "outputId": "b12056a1-eb70-48fd-d995-085e523d5698"
      },
      "execution_count": 145,
      "outputs": [
        {
          "output_type": "execute_result",
          "data": {
            "text/plain": [
              "<tf.RaggedTensor [[20], [16, 18], [9, 1, 3, 6, 11]]>"
            ]
          },
          "metadata": {},
          "execution_count": 145
        }
      ]
    },
    {
      "cell_type": "markdown",
      "source": [
        "#### How to add dimensions to tensors(adding dimensions of size 1) with `tf.expand_dims`\n"
      ],
      "metadata": {
        "id": "IgvfdgmyHhWt"
      }
    },
    {
      "cell_type": "code",
      "source": [
        "tensor = tf.constant([10, 20, 30])\n",
        "print(f\"Tensor:\\n{tensor} => shape: {tf.shape(tensor)}\")\n",
        "\n",
        "# expand dimensions\n",
        "tensor_expanded = tf.expand_dims(tensor, axis = [0])\n",
        "print(\"Tensor expanded:\")\n",
        "print(f\"{tensor_expanded} => shape: {tf.shape(tensor_expanded)}\")"
      ],
      "metadata": {
        "id": "T_7DyTmixLo4",
        "colab": {
          "base_uri": "https://localhost:8080/"
        },
        "outputId": "44233f82-837d-48b1-ae4c-653f4e29e9ca"
      },
      "execution_count": 146,
      "outputs": [
        {
          "output_type": "stream",
          "name": "stdout",
          "text": [
            "Tensor:\n",
            "[10 20 30] => shape: [3]\n",
            "Tensor expanded:\n",
            "[[10 20 30]] => shape: [1 3]\n"
          ]
        }
      ]
    },
    {
      "cell_type": "code",
      "source": [
        "tensor_expanded = tf.expand_dims(tensor, axis = [-1]) # innermost ndim\n",
        "print(\"Tensor expanded(axis=-1):\")\n",
        "print(f\"{tensor_expanded} => shape: {tf.shape(tensor_expanded)}\")"
      ],
      "metadata": {
        "id": "Egqn-c8bxLXj",
        "colab": {
          "base_uri": "https://localhost:8080/"
        },
        "outputId": "08d5b18b-2fd0-493f-cb77-170e8aacbbba"
      },
      "execution_count": 147,
      "outputs": [
        {
          "output_type": "stream",
          "name": "stdout",
          "text": [
            "Tensor expanded(axis=-1):\n",
            "[[10]\n",
            " [20]\n",
            " [30]] => shape: [3 1]\n"
          ]
        }
      ]
    },
    {
      "cell_type": "markdown",
      "source": [
        "### How to concatenate tensors with `tf.concat` along a specific axis"
      ],
      "metadata": {
        "id": "5qW0M0xLBcYM"
      }
    },
    {
      "cell_type": "code",
      "source": [
        "tensor_1 = tf.constant([[1, 2, 3],\n",
        "                        [4, 5, 6]])\n",
        "tensor_2 = tf.constant([[7, 8, 9],\n",
        "                        [10, 11, 12]])\n",
        "print(f\"Tensor 1:\\n{tensor_1}\")\n",
        "print(f\"Tensor 2:\\n{tensor_2}\")\n",
        "\n",
        "# concatenate along axis=0\n",
        "tensor1_tensor2 = tf.concat([tensor_1, tensor_2], axis=[0])\n",
        "print(\"tensor_1 and tensor_2 joined(axis=0):\")\n",
        "print(f\"{tensor1_tensor2} => shape: {tf.shape(tensor1_tensor2)}\")"
      ],
      "metadata": {
        "colab": {
          "base_uri": "https://localhost:8080/"
        },
        "id": "eb4k3KwpBcM-",
        "outputId": "fad09d93-9f2b-4cda-abb1-8807584684b6"
      },
      "execution_count": 148,
      "outputs": [
        {
          "output_type": "stream",
          "name": "stdout",
          "text": [
            "Tensor 1:\n",
            "[[1 2 3]\n",
            " [4 5 6]]\n",
            "Tensor 2:\n",
            "[[ 7  8  9]\n",
            " [10 11 12]]\n",
            "tensor_1 and tensor_2 joined(axis=0):\n",
            "[[ 1  2  3]\n",
            " [ 4  5  6]\n",
            " [ 7  8  9]\n",
            " [10 11 12]] => shape: [4 3]\n"
          ]
        }
      ]
    },
    {
      "cell_type": "code",
      "source": [
        "# concatenate along axis=1\n",
        "tensor1_tensor2 = tf.concat([tensor_1, tensor_2], axis=[1])\n",
        "print(\"tensor_1 and tensor_2 joined(axis=1):\")\n",
        "print(f\"{tensor1_tensor2} => shape: {tf.shape(tensor1_tensor2)}\")"
      ],
      "metadata": {
        "colab": {
          "base_uri": "https://localhost:8080/"
        },
        "id": "NsQjNmYMBcKp",
        "outputId": "4cec2415-e880-4bbc-c4d9-7419becdc003"
      },
      "execution_count": 149,
      "outputs": [
        {
          "output_type": "stream",
          "name": "stdout",
          "text": [
            "tensor_1 and tensor_2 joined(axis=1):\n",
            "[[ 1  2  3  7  8  9]\n",
            " [ 4  5  6 10 11 12]] => shape: [2 6]\n"
          ]
        }
      ]
    },
    {
      "cell_type": "markdown",
      "source": [
        "## Broadcasting tensors"
      ],
      "metadata": {
        "id": "ovzlEyL_WpIO"
      }
    },
    {
      "cell_type": "code",
      "source": [
        "tensor = tf.constant([5, 10, 15])\n",
        "\n",
        "#multiply by scalar 5\n",
        "print(tf.multiply(tensor, 5))\n"
      ],
      "metadata": {
        "id": "seStICcfBcIM",
        "colab": {
          "base_uri": "https://localhost:8080/"
        },
        "outputId": "3116b626-414a-44a6-bf0f-ea1f45c617fe"
      },
      "execution_count": 150,
      "outputs": [
        {
          "output_type": "stream",
          "name": "stdout",
          "text": [
            "tf.Tensor([25 50 75], shape=(3,), dtype=int32)\n"
          ]
        }
      ]
    },
    {
      "cell_type": "markdown",
      "source": [
        "Broadcasting rules:\n",
        "\n",
        "* Rule 1: If the two tensors vary in their number of dimensions, the shape of the one with lesser dimensions is padded with ones on its left side.\n",
        "* Rule 2: If the shape of the two tensors does not match in any dimension, the tensor with a shape of 1 in that dimension is stretched to match the other shape.\n",
        "* Rule 3: If, in any dimension, the sizes differ and neither is 1, an error is raised."
      ],
      "metadata": {
        "id": "XUy095cclHS_"
      }
    },
    {
      "cell_type": "code",
      "source": [
        "rank1_t = tf.constant([1, 2 , 3])\n",
        "rank2_t = tf.constant([[5, 10, 15],\n",
        "                       [20, 25, 30]])\n",
        "\n",
        "\n",
        "# shapes\n",
        "print(f\"rank1_t shape: {rank1_t.shape}\")\n",
        "print(f\"rank2_t shape: {rank2_t.shape}\")\n",
        "\n",
        "# add\n",
        "r2_plus_r1 = rank1_t + rank2_t\n",
        "print(\"r2_plus_r1:\")\n",
        "print(f\"{r2_plus_r1} => shape{r2_plus_r1.shape}\")"
      ],
      "metadata": {
        "id": "jMbBZmDGBcFp",
        "colab": {
          "base_uri": "https://localhost:8080/"
        },
        "outputId": "12499ff9-4037-4373-cd9c-cedf37a84f6b"
      },
      "execution_count": 151,
      "outputs": [
        {
          "output_type": "stream",
          "name": "stdout",
          "text": [
            "rank1_t shape: (3,)\n",
            "rank2_t shape: (2, 3)\n",
            "r2_plus_r1:\n",
            "[[ 6 12 18]\n",
            " [21 27 33]] => shape(2, 3)\n"
          ]
        }
      ]
    },
    {
      "cell_type": "code",
      "source": [
        "t1 = tf.constant([1, 2 , 3, 4])\n",
        "t2 = tf.constant([[10],\n",
        "                  [20],\n",
        "                  [30],\n",
        "                  [40]])\n",
        "# shapes\n",
        "print(f\"t1 shape: {t1.shape}\")\n",
        "print(f\"t2 shape: {t2.shape}\")\n",
        "\n",
        "# multiply\n",
        "t2_x_t1 = t2 + t1\n",
        "print(\"t2_x_t1:\")\n",
        "print(f\"{t2_x_t1} => shape{t2_x_t1.shape}\")"
      ],
      "metadata": {
        "id": "BXhsuxy9BcDF",
        "colab": {
          "base_uri": "https://localhost:8080/"
        },
        "outputId": "63286255-a9e5-49ed-eba0-255fa61c1690"
      },
      "execution_count": 152,
      "outputs": [
        {
          "output_type": "stream",
          "name": "stdout",
          "text": [
            "t1 shape: (4,)\n",
            "t2 shape: (4, 1)\n",
            "t2_x_t1:\n",
            "[[11 12 13 14]\n",
            " [21 22 23 24]\n",
            " [31 32 33 34]\n",
            " [41 42 43 44]] => shape(4, 4)\n"
          ]
        }
      ]
    },
    {
      "cell_type": "markdown",
      "source": [
        "## Basic mathematical operations with tensors"
      ],
      "metadata": {
        "id": "fjl8OLbBvThO"
      }
    },
    {
      "cell_type": "code",
      "source": [
        "# Example tensors\n",
        "tensor_a = tf.constant([[1, 2], [3, 4]])\n",
        "tensor_b = tf.constant([[5, 6], [7, 8]])\n",
        "\n",
        "print(\"Tensor A:\")\n",
        "print(tensor_a)\n",
        "print(\"Tensor B:\")\n",
        "print(tensor_b)\n"
      ],
      "metadata": {
        "colab": {
          "base_uri": "https://localhost:8080/"
        },
        "id": "6ItwmxFXvYMq",
        "outputId": "3e45d315-2e9b-4191-ca36-99ab41e8b8fd"
      },
      "execution_count": 153,
      "outputs": [
        {
          "output_type": "stream",
          "name": "stdout",
          "text": [
            "Tensor A:\n",
            "tf.Tensor(\n",
            "[[1 2]\n",
            " [3 4]], shape=(2, 2), dtype=int32)\n",
            "Tensor B:\n",
            "tf.Tensor(\n",
            "[[5 6]\n",
            " [7 8]], shape=(2, 2), dtype=int32)\n"
          ]
        }
      ]
    },
    {
      "cell_type": "code",
      "source": [
        "# Addition\n",
        "result_addition = tensor_a + tensor_b\n",
        "print(\"Addition Result:\")\n",
        "print(result_addition.numpy())"
      ],
      "metadata": {
        "id": "7vID0FkSBcAt",
        "colab": {
          "base_uri": "https://localhost:8080/"
        },
        "outputId": "3d071e75-f5ce-4a21-ec91-dce8d3efaf1b"
      },
      "execution_count": 154,
      "outputs": [
        {
          "output_type": "stream",
          "name": "stdout",
          "text": [
            "Addition Result:\n",
            "[[ 6  8]\n",
            " [10 12]]\n"
          ]
        }
      ]
    },
    {
      "cell_type": "code",
      "source": [
        "# Subtraction\n",
        "result_subtraction = tensor_a - tensor_b\n",
        "\n",
        "print(\"Subtraction Result:\")\n",
        "print(result_subtraction.numpy())"
      ],
      "metadata": {
        "id": "d7ZhA2Q2Bb70",
        "colab": {
          "base_uri": "https://localhost:8080/"
        },
        "outputId": "6c51be58-9357-4807-c4ba-a8a2287c1c9d"
      },
      "execution_count": 155,
      "outputs": [
        {
          "output_type": "stream",
          "name": "stdout",
          "text": [
            "Subtraction Result:\n",
            "[[-4 -4]\n",
            " [-4 -4]]\n"
          ]
        }
      ]
    },
    {
      "cell_type": "code",
      "source": [
        "# Element-wise multiplication\n",
        "result_elementwise_multiplication = tf.multiply(tensor_a, tensor_b)\n",
        "\n",
        "# Matrix multiplication\n",
        "result_matrix_multiplication = tf.matmul(tensor_a, tensor_b)\n",
        "\n",
        "print(\"Element-wise Multiplication Result:\")\n",
        "print(result_elementwise_multiplication.numpy())\n",
        "print(\"Matrix Multiplication Result:\")\n",
        "print(result_matrix_multiplication.numpy())"
      ],
      "metadata": {
        "id": "gjCY3AzSBb1o",
        "colab": {
          "base_uri": "https://localhost:8080/"
        },
        "outputId": "7de0a8c5-37dc-4899-bf58-b1098fe4a0c3"
      },
      "execution_count": 156,
      "outputs": [
        {
          "output_type": "stream",
          "name": "stdout",
          "text": [
            "Element-wise Multiplication Result:\n",
            "[[ 5 12]\n",
            " [21 32]]\n",
            "Matrix Multiplication Result:\n",
            "[[19 22]\n",
            " [43 50]]\n"
          ]
        }
      ]
    },
    {
      "cell_type": "code",
      "source": [
        "# Element-wise division\n",
        "result_elementwise_division = tf.divide(tensor_a, tensor_b)\n",
        "\n",
        "print(\"Element-wise Division Result:\")\n",
        "print(result_elementwise_division.numpy())"
      ],
      "metadata": {
        "id": "5r0OjXFaBbzB",
        "colab": {
          "base_uri": "https://localhost:8080/"
        },
        "outputId": "084dda8f-2bca-4a07-c5d9-f568db86ab64"
      },
      "execution_count": 157,
      "outputs": [
        {
          "output_type": "stream",
          "name": "stdout",
          "text": [
            "Element-wise Division Result:\n",
            "[[0.2        0.33333333]\n",
            " [0.42857143 0.5       ]]\n"
          ]
        }
      ]
    },
    {
      "cell_type": "code",
      "source": [
        "# Define matrices A and B\n",
        "A = tf.constant([[1, 2], [3, 4]])\n",
        "B = tf.constant([[5, 6], [7, 8]])\n",
        "\n",
        "# Matrix multiplication with tf.matmul\n",
        "C = tf.matmul(A, B)\n",
        "\n",
        "print(\"Matrix A:\")\n",
        "print(A.numpy())\n",
        "print(\"Matrix B:\")\n",
        "print(B.numpy())\n",
        "print(\"Matrix Multiplication Result (C):\")\n",
        "print(C.numpy())"
      ],
      "metadata": {
        "id": "5UpKagrmBbwa",
        "colab": {
          "base_uri": "https://localhost:8080/"
        },
        "outputId": "66cfff71-4450-49c9-fb94-853034c56f23"
      },
      "execution_count": 158,
      "outputs": [
        {
          "output_type": "stream",
          "name": "stdout",
          "text": [
            "Matrix A:\n",
            "[[1 2]\n",
            " [3 4]]\n",
            "Matrix B:\n",
            "[[5 6]\n",
            " [7 8]]\n",
            "Matrix Multiplication Result (C):\n",
            "[[19 22]\n",
            " [43 50]]\n"
          ]
        }
      ]
    },
    {
      "cell_type": "markdown",
      "source": [
        "## Tensor aggregation functions\n",
        "\n",
        "* `tf.reduce_sum`\n",
        "* `tf.reduce_min and tf.reduce max`\n",
        "* `tf.reduce_mean`\n",
        "* `tf.argmax and tf.argmin`\n"
      ],
      "metadata": {
        "id": "LAveB4GcNkvG"
      }
    },
    {
      "cell_type": "code",
      "source": [
        "example_t = tf.constant([[5, 10, 15],\n",
        "                        [20, 25, 30]])\n",
        "\n",
        "print(example_t.numpy())"
      ],
      "metadata": {
        "id": "l95u4o_VBblv",
        "colab": {
          "base_uri": "https://localhost:8080/"
        },
        "outputId": "839cc2de-393f-45ff-c32f-4f68dcfafa80"
      },
      "execution_count": 159,
      "outputs": [
        {
          "output_type": "stream",
          "name": "stdout",
          "text": [
            "[[ 5 10 15]\n",
            " [20 25 30]]\n"
          ]
        }
      ]
    },
    {
      "cell_type": "markdown",
      "source": [
        "`tf.reduce_sum`"
      ],
      "metadata": {
        "id": "QFCmrCWtXoXJ"
      }
    },
    {
      "cell_type": "code",
      "source": [
        "sum_of_all_elems = tf.reduce_sum(example_t)\n",
        "sum_axis_0 = tf.reduce_sum(example_t, axis = 0)\n",
        "sum_axis_1 = tf.reduce_sum(example_t, axis = 1)\n",
        "\n",
        "print(f\"Tensor: \\n{example_t.numpy()}\")\n",
        "print(\"Sum of all elements:\", sum_of_all_elems.numpy())\n",
        "print(\"Sum on axis 0:\", sum_axis_0.numpy())\n",
        "print(\"Sum on axis 1:\", sum_axis_1.numpy())\n"
      ],
      "metadata": {
        "id": "jHZexVEDBbgn",
        "colab": {
          "base_uri": "https://localhost:8080/"
        },
        "outputId": "6b6c837a-161e-485e-a564-bf4c002dae15"
      },
      "execution_count": 160,
      "outputs": [
        {
          "output_type": "stream",
          "name": "stdout",
          "text": [
            "Tensor: \n",
            "[[ 5 10 15]\n",
            " [20 25 30]]\n",
            "Sum of all elements: 105\n",
            "Sum on axis 0: [25 35 45]\n",
            "Sum on axis 1: [30 75]\n"
          ]
        }
      ]
    },
    {
      "cell_type": "markdown",
      "source": [
        "`tf.reduce_mean`"
      ],
      "metadata": {
        "id": "kgxIiRWSeEFt"
      }
    },
    {
      "cell_type": "code",
      "source": [
        "tensor_mean = tf.reduce_mean(example_t)\n",
        "mean_axis_0 = tf.reduce_mean(example_t, axis = 0)\n",
        "mean_axis_1 = tf.reduce_mean(example_t, axis = 1)\n",
        "\n",
        "print(f\"Tensor: \\n{example_t.numpy()}\")\n",
        "print(\"Mean of all elements:\", tensor_mean.numpy())\n",
        "print(\"Mean on axis 0:\", mean_axis_0.numpy())\n",
        "print(\"Mean on axis 1:\", mean_axis_1.numpy())"
      ],
      "metadata": {
        "id": "ZvEdvCPaBbdx",
        "colab": {
          "base_uri": "https://localhost:8080/"
        },
        "outputId": "777b56b1-a4ee-4db3-c1a0-98615a1307e6"
      },
      "execution_count": 161,
      "outputs": [
        {
          "output_type": "stream",
          "name": "stdout",
          "text": [
            "Tensor: \n",
            "[[ 5 10 15]\n",
            " [20 25 30]]\n",
            "Mean of all elements: 17\n",
            "Mean on axis 0: [12 17 22]\n",
            "Mean on axis 1: [10 25]\n"
          ]
        }
      ]
    },
    {
      "cell_type": "markdown",
      "source": [
        "`tf.reduce_min` and `tf.reduce_max`"
      ],
      "metadata": {
        "id": "hpcZXffUeB3Z"
      }
    },
    {
      "cell_type": "code",
      "source": [
        "# Along axis 0\n",
        "max_axis_0 = tf.reduce_max(example_t, axis=0)\n",
        "min_axis_0 = tf.reduce_min(example_t, axis=0)\n",
        "\n",
        "# Along axis 1\n",
        "max_axis_1 = tf.reduce_max(example_t, axis=1)\n",
        "min_axis_1 = tf.reduce_min(example_t, axis=1)\n",
        "\n",
        "print(f\"Tensor: \\n{example_t.numpy()}\")\n",
        "print(\"Max axis 0:\", max_axis_0.numpy())\n",
        "print(\"Min axis 0:\", min_axis_0.numpy())\n",
        "print(\"Max axis 1:\", max_axis_1.numpy())\n",
        "print(\"Min axis 1:\", min_axis_1.numpy())\n"
      ],
      "metadata": {
        "colab": {
          "base_uri": "https://localhost:8080/"
        },
        "id": "vbIhAYZ7crjo",
        "outputId": "2f250c25-1cbc-4fa2-d815-61d1196a3c13"
      },
      "execution_count": 162,
      "outputs": [
        {
          "output_type": "stream",
          "name": "stdout",
          "text": [
            "Tensor: \n",
            "[[ 5 10 15]\n",
            " [20 25 30]]\n",
            "Max axis 0: [20 25 30]\n",
            "Min axis 0: [ 5 10 15]\n",
            "Max axis 1: [15 30]\n",
            "Min axis 1: [ 5 20]\n"
          ]
        }
      ]
    },
    {
      "cell_type": "markdown",
      "source": [
        "`tf.argmax` and `tf.argmin`"
      ],
      "metadata": {
        "id": "toL8xPeFlsiH"
      }
    },
    {
      "cell_type": "code",
      "source": [
        "# Along axis 0\n",
        "argmax_axis_0 = tf.argmax(example_t, axis=0)\n",
        "argmin_axis_0 = tf.argmin(example_t, axis=0)\n",
        "\n",
        "# Along axis 1\n",
        "argmax_axis_1 = tf.argmax(example_t, axis=1)\n",
        "argmin_axis_1 = tf.argmin(example_t, axis=1)\n",
        "\n",
        "print(f\"Tensor: \\n{example_t.numpy()}\")\n",
        "print(\"Index of max value axis 0:\", argmax_axis_0.numpy())\n",
        "print(\"Index of min value axis 0:\", argmin_axis_0.numpy())\n",
        "print(\"Index of max value axis 1:\", argmax_axis_1.numpy())\n",
        "print(\"Index of min value axis 1:\", argmin_axis_1.numpy())"
      ],
      "metadata": {
        "colab": {
          "base_uri": "https://localhost:8080/"
        },
        "id": "RW02B-Grcrfm",
        "outputId": "9cb07ff6-0dcd-4871-ecd6-77e2250b3f9a"
      },
      "execution_count": 163,
      "outputs": [
        {
          "output_type": "stream",
          "name": "stdout",
          "text": [
            "Tensor: \n",
            "[[ 5 10 15]\n",
            " [20 25 30]]\n",
            "Index of max value axis 0: [1 1 1]\n",
            "Index of min value axis 0: [0 0 0]\n",
            "Index of max value axis 1: [2 2]\n",
            "Index of min value axis 1: [0 0]\n"
          ]
        }
      ]
    },
    {
      "cell_type": "code",
      "source": [],
      "metadata": {
        "id": "0lA3E-c1crU9"
      },
      "execution_count": 163,
      "outputs": []
    },
    {
      "cell_type": "code",
      "source": [],
      "metadata": {
        "id": "5b55jNk1crSW"
      },
      "execution_count": 163,
      "outputs": []
    },
    {
      "cell_type": "code",
      "source": [],
      "metadata": {
        "id": "NU0CWjw1crOP"
      },
      "execution_count": 163,
      "outputs": []
    },
    {
      "cell_type": "code",
      "source": [],
      "metadata": {
        "id": "YS0JjEZRcrKz"
      },
      "execution_count": 163,
      "outputs": []
    },
    {
      "cell_type": "code",
      "source": [],
      "metadata": {
        "id": "RZ9a3TITcrF7"
      },
      "execution_count": 163,
      "outputs": []
    },
    {
      "cell_type": "code",
      "source": [],
      "metadata": {
        "id": "asJILg4jcq-R"
      },
      "execution_count": 163,
      "outputs": []
    }
  ],
  "metadata": {
    "colab": {
      "provenance": []
    },
    "kernelspec": {
      "display_name": "Python 3",
      "name": "python3"
    },
    "language_info": {
      "name": "python"
    }
  },
  "nbformat": 4,
  "nbformat_minor": 0
}